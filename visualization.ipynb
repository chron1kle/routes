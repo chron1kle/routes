{
 "cells": [
  {
   "cell_type": "code",
   "execution_count": 1,
   "metadata": {},
   "outputs": [
    {
     "name": "stdout",
     "output_type": "stream",
     "text": [
      "\n",
      "Labelled data from device #312 on 20240101 successfully loaded.\n",
      "1390 lines of data loaded in total.\n",
      "Format: [Time, Date, SVM_mean, SVM_min, SVM_max, SVM_SD]\n",
      "\n",
      "\n",
      "Labelled data from device #312 on 20240102 successfully loaded.\n",
      "1441 lines of data loaded in total.\n",
      "Format: [Time, Date, SVM_mean, SVM_min, SVM_max, SVM_SD]\n",
      "\n",
      "\n",
      "Labelled data from device #312 on 20240103 successfully loaded.\n",
      "1445 lines of data loaded in total.\n",
      "Format: [Time, Date, SVM_mean, SVM_min, SVM_max, SVM_SD]\n",
      "\n",
      "\n",
      "Labelled data from device #312 on 20240106 successfully loaded.\n",
      "1444 lines of data loaded in total.\n",
      "Format: [Time, Date, SVM_mean, SVM_min, SVM_max, SVM_SD]\n",
      "\n",
      "\n",
      "Labelled data from device #312 on 20240107 successfully loaded.\n",
      "1445 lines of data loaded in total.\n",
      "Format: [Time, Date, SVM_mean, SVM_min, SVM_max, SVM_SD]\n",
      "\n",
      "\n",
      "Labelled data from device #312 on 20240119 successfully loaded.\n",
      "1125 lines of data loaded in total.\n",
      "Format: [Time, Date, SVM_mean, SVM_min, SVM_max, SVM_SD]\n",
      "\n",
      "\n",
      "Labelled data from device #312 on 20240329 successfully loaded.\n",
      "1357 lines of data loaded in total.\n",
      "Format: [Time, Date, SVM_mean, SVM_min, SVM_max, SVM_SD]\n",
      "\n",
      "\n",
      "Labelled data from device #312 on 20240415 successfully loaded.\n",
      "1444 lines of data loaded in total.\n",
      "Format: [Time, Date, SVM_mean, SVM_min, SVM_max, SVM_SD]\n",
      "\n",
      "\n",
      "Labelled data from device #312 on 20240417 successfully loaded.\n",
      "1444 lines of data loaded in total.\n",
      "Format: [Time, Date, SVM_mean, SVM_min, SVM_max, SVM_SD]\n",
      "\n",
      "\n",
      "Labelled data from device #312 on 20240419 successfully loaded.\n",
      "1443 lines of data loaded in total.\n",
      "Format: [Time, Date, SVM_mean, SVM_min, SVM_max, SVM_SD]\n",
      "\n",
      "Data unit:  8128   952   252\n",
      "Seg:  7551   792   223\n"
     ]
    }
   ],
   "source": [
    "import matplotlib.pyplot as plt\n",
    "import numpy as np\n",
    "from scipy.ndimage import gaussian_filter\n",
    "import time\n",
    "from basic_functions import *\n",
    "from dataproc import *\n",
    "\n",
    "from scipy import stats\n",
    "\n",
    "def outliercheck(target):\n",
    "\n",
    "    # 执行Shapiro-Wilk检验\n",
    "    statistic, p_value = stats.shapiro(target)\n",
    "\n",
    "    # 输出检验结果\n",
    "    print(\"Shapiro-Wilk检验结果：\")\n",
    "    print(f\"统计量：{statistic}\")\n",
    "    print(f\"p值：{p_value}\")\n",
    "    if p_value < 0.05:\n",
    "        print('Non-normal')\n",
    "    else:\n",
    "        print('Normal')\n",
    "\n",
    "dataSet = LoadCatagory('312', dates).segment(3)\n",
    "dataSet.segment(3)"
   ]
  },
  {
   "cell_type": "code",
   "execution_count": 32,
   "metadata": {},
   "outputs": [
    {
     "data": {
      "text/plain": [
       "<matplotlib.collections.PathCollection at 0x208b0d1e1d0>"
      ]
     },
     "execution_count": 32,
     "metadata": {},
     "output_type": "execute_result"
    },
    {
     "data": {
      "image/png": "[encoded data removed]",
      "text/plain": [
       "<Figure size 640x480 with 1 Axes>"
      ]
     },
     "metadata": {},
     "output_type": "display_data"
    }
   ],
   "source": [
    "# labelling('20240419', '312', d312_20240419)\n",
    "\n",
    "# DataVisualize('312', '20240329', 2)\n",
    "i = 0\n",
    "x = []\n",
    "y = []\n",
    "colors = []\n",
    "for unit in dataSet.metro:\n",
    "    x.append(i)\n",
    "    y.append(unit.sd)\n",
    "    i += 1\n",
    "meanval = sum(y) / len(y)\n",
    "vari = 0\n",
    "for e in y:\n",
    "    vari += abs(meanval - e)\n",
    "vari /= len(y)\n",
    "# upperbound = meanval + 3 * vari\n",
    "# lowerbound = meanval - 3 * vari\n",
    "# for e in y:\n",
    "#     if e > upperbound or e < lowerbound:\n",
    "#         colors.append('red')\n",
    "#     else:\n",
    "#         colors.append('blue')\n",
    "# plt.scatter(x, y, color=colors)\n",
    "z = []\n",
    "for e in y:\n",
    "    z.append((e-meanval) / vari)\n",
    "plt.scatter(x, z)\n"
   ]
  },
  {
   "cell_type": "code",
   "execution_count": 10,
   "metadata": {},
   "outputs": [
    {
     "name": "stdout",
     "output_type": "stream",
     "text": [
      "Shapiro-Wilk检验结果：\n",
      "统计量：0.8379839284406623\n",
      "p值：0.054845245259066755\n",
      "Normal\n"
     ]
    }
   ],
   "source": [
    "tar = []\n",
    "for unit in dataSet.bus:\n",
    "    tar.append(unit.min)\n",
    "outliercheck([1,2,2,3,3,3,2,2,1])"
   ]
  },
  {
   "cell_type": "code",
   "execution_count": null,
   "metadata": {},
   "outputs": [
    {
     "ename": "NameError",
     "evalue": "name 'd' is not defined",
     "output_type": "error",
     "traceback": [
      "\u001b[1;31m---------------------------------------------------------------------------\u001b[0m",
      "\u001b[1;31mNameError\u001b[0m                                 Traceback (most recent call last)",
      "Cell \u001b[1;32mIn[1], line 5\u001b[0m\n\u001b[0;32m      2\u001b[0m \u001b[38;5;28;01mfrom\u001b[39;00m \u001b[38;5;21;01msklearn\u001b[39;00m\u001b[38;5;21;01m.\u001b[39;00m\u001b[38;5;21;01mmetrics\u001b[39;00m \u001b[38;5;28;01mimport\u001b[39;00m pairwise_distances_argmin_min\n\u001b[0;32m      4\u001b[0m \u001b[38;5;66;03m# 创建数据集\u001b[39;00m\n\u001b[1;32m----> 5\u001b[0m X \u001b[38;5;241m=\u001b[39m [[x[\u001b[38;5;241m4\u001b[39m] \u001b[38;5;241m-\u001b[39m x[\u001b[38;5;241m3\u001b[39m]] \u001b[38;5;28;01mfor\u001b[39;00m x \u001b[38;5;129;01min\u001b[39;00m \u001b[43md\u001b[49m]\n\u001b[0;32m      7\u001b[0m \u001b[38;5;66;03m# 使用 KMeans 进行聚类\u001b[39;00m\n\u001b[0;32m      8\u001b[0m kmeans \u001b[38;5;241m=\u001b[39m KMeans(n_clusters\u001b[38;5;241m=\u001b[39m\u001b[38;5;241m1\u001b[39m)\n",
      "\u001b[1;31mNameError\u001b[0m: name 'd' is not defined"
     ]
    }
   ],
   "source": [
    "from sklearn.cluster import KMeans\n",
    "from sklearn.metrics import pairwise_distances_argmin_min\n",
    "\n",
    "# 创建数据集\n",
    "X = [[x[4] - x[3]] for x in d]\n",
    "\n",
    "# 使用 KMeans 进行聚类\n",
    "kmeans = KMeans(n_clusters=1)\n",
    "kmeans.fit(X)\n",
    "\n",
    "# 计算每个样本到最近聚类中心的距离\n",
    "distances = pairwise_distances_argmin_min(X, kmeans.cluster_centers_)[1]\n",
    "\n",
    "# 设置离群值的阈值（例如，距离的百分位数）\n",
    "threshold = 20\n",
    "\n",
    "# 标记离群值\n",
    "outliers = [X[i] for i, distance in enumerate(distances) if distance > threshold]\n",
    "\n",
    "print(\"离群值：\", outliers)"
   ]
  },
  {
   "cell_type": "code",
   "execution_count": null,
   "metadata": {},
   "outputs": [
    {
     "name": "stdout",
     "output_type": "stream",
     "text": [
      "Mean: 1.0153846153846153, Covariance: 0.16923076923076924\n",
      "Mean: 1.4081967213114752, Covariance: 0.11475409836065577\n",
      "Mean: 1.9217391304347826, Covariance: 0.10355731225296445\n",
      "Mean: 2.3647404505386875, Covariance: 0.10088148873653283\n"
     ]
    }
   ],
   "source": [
    "import numpy as np\n",
    "\n",
    "def kalman_filter(measurements, initial_mean, initial_covariance, process_noise, measurement_noise):\n",
    "    # 初始化状态向量和协方差矩阵\n",
    "    mean = initial_mean\n",
    "    covariance = initial_covariance\n",
    "\n",
    "    filtered_means = []\n",
    "    filtered_covariances = []\n",
    "\n",
    "    for measurement in measurements:\n",
    "        # 预测步骤\n",
    "        predicted_mean = mean\n",
    "        predicted_covariance = covariance + process_noise\n",
    "\n",
    "        # 更新步骤\n",
    "        measurement_residual = measurement - predicted_mean\n",
    "        measurement_residual_covariance = predicted_covariance + measurement_noise\n",
    "        kalman_gain = predicted_covariance / measurement_residual_covariance\n",
    "        mean = predicted_mean + kalman_gain * measurement_residual\n",
    "        covariance = (1 - kalman_gain) * predicted_covariance\n",
    "\n",
    "        filtered_means.append(mean)\n",
    "        filtered_covariances.append(covariance)\n",
    "\n",
    "    return filtered_means, filtered_covariances\n",
    "\n",
    "# 测试示例\n",
    "measurements = [1.2, 1.7, 2.4, 2.8]  # 测量序列\n",
    "initial_mean = 0  # 初始状态均值\n",
    "initial_covariance = 1  # 初始状态协方差\n",
    "process_noise = 0.1  # 过程噪声方差\n",
    "measurement_noise = 0.2  # 测量噪声方差\n",
    "\n",
    "filtered_means, filtered_covariances = kalman_filter(measurements, initial_mean, initial_covariance, process_noise, measurement_noise)\n",
    "\n",
    "# 打印输出结果\n",
    "for mean, covariance in zip(filtered_means, filtered_covariances):\n",
    "    print(f\"Mean: {mean}, Covariance: {covariance}\")"
   ]
  },
  {
   "cell_type": "code",
   "execution_count": null,
   "metadata": {},
   "outputs": [],
   "source": [
    "from collections import Counter\n",
    "\n",
    "def most_common_elements(lst):\n",
    "    counter = Counter(lst)\n",
    "    most_common = counter.most_common(1)\n",
    "    return most_common[0][0] if most_common else None\n",
    "\n",
    "# 示例列表\n",
    "my_list = [1, 2, 3, 2, 4, 5, 2, 4, 2]\n",
    "\n",
    "# 返回重复次数最高的元素\n",
    "result = most_common_elements(my_list)\n",
    "\n",
    "print(result)  # 输出: 2"
   ]
  }
 ],
 "metadata": {
  "kernelspec": {
   "display_name": "Python 3",
   "language": "python",
   "name": "python3"
  },
  "language_info": {
   "codemirror_mode": {
    "name": "ipython",
    "version": 3
   },
   "file_extension": ".py",
   "mimetype": "text/x-python",
   "name": "python",
   "nbconvert_exporter": "python",
   "pygments_lexer": "ipython3",
   "version": "3.10.11"
  }
 },
 "nbformat": 4,
 "nbformat_minor": 2
}
